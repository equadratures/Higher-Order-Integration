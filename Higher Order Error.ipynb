{
 "cells": [
  {
   "cell_type": "markdown",
   "id": "5c52bbfe",
   "metadata": {},
   "source": [
    "# Different Distributions"
   ]
  },
  {
   "cell_type": "markdown",
   "id": "ad114170",
   "metadata": {},
   "source": [
    "Testing Gausssian distribution"
   ]
  },
  {
   "cell_type": "code",
   "execution_count": 7,
   "id": "22465532",
   "metadata": {},
   "outputs": [
    {
     "name": "stdout",
     "output_type": "stream",
     "text": [
      "-0.40375880546278164\n"
     ]
    }
   ],
   "source": [
    "import numpy as np\n",
    "import matplotlib.pyplot as plt\n",
    "import equadratures as eq\n",
    "\n",
    "order = 10\n",
    "parameter = eq.Parameter(lower=-1, upper=1, order=order, distribution='Gaussian', shape_parameter_A = -1, shape_parameter_B=0.8)\n",
    "basis = eq.Basis('univariate')\n",
    "poly = eq.Poly(parameter, basis, method='numerical-integration')\n",
    "\n",
    "points, weights = poly.get_points_and_weights()\n",
    "\n",
    "def l(x):\n",
    "    return np.sin(x)+np.cos(x)\n",
    "\n",
    "xValues = np.linspace(-1., 1., 1000)\n",
    "\n",
    "eval = float( 2  * np.dot(weights , eq.evaluate_model(points, l) ) )\n",
    "print(eval)"
   ]
  },
  {
   "cell_type": "markdown",
   "id": "7d124e4f",
   "metadata": {},
   "source": [
    "Testing gamma distribution:"
   ]
  },
  {
   "cell_type": "code",
   "execution_count": 8,
   "id": "74605a69",
   "metadata": {},
   "outputs": [
    {
     "name": "stdout",
     "output_type": "stream",
     "text": [
      "2.0001664951821003\n"
     ]
    }
   ],
   "source": [
    "\n",
    "parameter2 = eq.Parameter(lower=-1, upper=1, order=order, distribution='gamma')\n",
    "basis2 = eq.Basis('univariate')\n",
    "poly2 = eq.Poly(parameter2, basis2, method='numerical-integration')\n",
    "\n",
    "points2, weights2 = poly2.get_points_and_weights()\n",
    "\n",
    "\n",
    "eval2 = float( 2  * np.dot(weights2, eq.evaluate_model(points2, l) ) )\n",
    "print(eval2)"
   ]
  },
  {
   "cell_type": "markdown",
   "id": "7defe82b",
   "metadata": {},
   "source": [
    "# Error versus order"
   ]
  },
  {
   "cell_type": "markdown",
   "id": "31723257",
   "metadata": {},
   "source": [
    "We will be looking at the following 4 univariate functions:\n",
    "$$\n",
    "\\begin{aligned}\n",
    "F(x) &= \\int_{-1}^{1}xsin(x^2)\\;dx \\\\\n",
    "G(x) &= \\int_{-1}^{1}e^x\\;dx \\\\\n",
    "H(x) &= \\int_{-1}^{1}x^8+x^3-x^2\\;dx \\\\\n",
    "\\end{aligned}\n",
    "$$\n"
   ]
  },
  {
   "cell_type": "code",
   "execution_count": 9,
   "id": "63a8f12d",
   "metadata": {},
   "outputs": [],
   "source": [
    "def f(x):\n",
    "    return x*np.sin(x**2);\n",
    "def g(x):\n",
    "    return np.exp(x);\n",
    "def h(x):\n",
    "    return x**8+x**3-x**2"
   ]
  },
  {
   "cell_type": "markdown",
   "id": "cafea1de",
   "metadata": {},
   "source": [
    "The true values of these functions are easily calculated analytically:\n",
    "$$\n",
    "\\begin{aligned}\n",
    "F(x) &= \\Bigg[-\\frac{cos(x^2)}{2}\\Bigg]_{-1}^{\\;\\,1} = 0 \\\\\n",
    "\\\\\n",
    "G(x) &= \\big[e^x\\big]_{-1}^{\\;\\,1} = 2.350402387 \\\\\n",
    "\\\\\n",
    "H(x) &= \\big[\\frac{x^9}{9}+\\frac{x^4}{4}-\\frac{x^3}{3}\\big]_{-1}^{\\;\\,1} = -0.\\overline{444}\n",
    "\\end{aligned}\n",
    "$$"
   ]
  },
  {
   "cell_type": "code",
   "execution_count": 10,
   "id": "4e5ff2f4",
   "metadata": {},
   "outputs": [],
   "source": [
    "\n",
    "xValues = np.linspace(5,500,5);\n",
    "RANGE = 100\n",
    "\n",
    "def errorF(y):\n",
    "    return 0-y;\n",
    "def errorG(y):\n",
    "    return 2.350402387287602913765-y;\n",
    "def errorH(y):\n",
    "    return -0.4444444444444444444444-y;\n"
   ]
  },
  {
   "cell_type": "markdown",
   "id": "2a1f65ea",
   "metadata": {},
   "source": [
    "Now we will approximate these functions using Gauss-Legendre Quadrature with order n ranging from 5 to 500 and calculating the error between our approximation and the true value of each function.\n",
    "$$\n",
    "\\begin{aligned}\n",
    "Error_{F(x)} = F(x) -\\sum_{i=1}^{n}f(points_i)*weights_i \\\\\n",
    "Error_{G(x)} = G(x) -\\sum_{i=1}^{n}g(points_i)*weights_i \\\\\n",
    "Error_{H(x)} = H(x) -\\sum_{i=1}^{n}h(points_i)*weights_i \\\\\n",
    "\\end{aligned}\n",
    "$$\n"
   ]
  },
  {
   "cell_type": "code",
   "execution_count": 17,
   "id": "893e1f35",
   "metadata": {},
   "outputs": [
    {
     "name": "stdout",
     "output_type": "stream",
     "text": [
      "2.350402387287603\n"
     ]
    }
   ],
   "source": [
    "fValues = np.empty(RANGE);\n",
    "gValues = np.empty(RANGE);\n",
    "hValues = np.empty(RANGE);\n",
    "\n",
    "for o1 in range(RANGE-1):\n",
    "    p1 = eq.Parameter(lower=-1, upper=1, order=(o1+1)*5, distribution='uniform')\n",
    "    b1 = eq.Basis('univariate')\n",
    "    poly1 = eq.Poly(p1, b1, method='numerical-integration')\n",
    "    points1, weights1 = poly1.get_points_and_weights()\n",
    "    fValues[o1] = float( 2  * np.dot(weights1, eq.evaluate_model(points1, f)))\n",
    "    gValues[o1] = float( 2  * np.dot(weights1, eq.evaluate_model(points1, g)))\n",
    "    hValues[o1] = float( 2  * np.dot(weights1, eq.evaluate_model(points1, h)))\n",
    "\n",
    "print(gValues[90])"
   ]
  },
  {
   "cell_type": "code",
   "execution_count": null,
   "id": "81019275",
   "metadata": {},
   "outputs": [],
   "source": []
  }
 ],
 "metadata": {
  "kernelspec": {
   "display_name": "Python 3 (ipykernel)",
   "language": "python",
   "name": "python3"
  },
  "language_info": {
   "codemirror_mode": {
    "name": "ipython",
    "version": 3
   },
   "file_extension": ".py",
   "mimetype": "text/x-python",
   "name": "python",
   "nbconvert_exporter": "python",
   "pygments_lexer": "ipython3",
   "version": "3.10.9"
  }
 },
 "nbformat": 4,
 "nbformat_minor": 5
}
