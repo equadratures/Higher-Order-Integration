{
 "cells": [
  {
   "cell_type": "markdown",
   "id": "32754c4b",
   "metadata": {},
   "source": [
    "# Numerical Integration"
   ]
  },
  {
   "cell_type": "markdown",
   "id": "a2478b38",
   "metadata": {},
   "source": [
    "In this tutorial we describe how to use Equadratures capabilities to numerically compute integrals using efficient quadratures."
   ]
  },
  {
   "cell_type": "markdown",
   "id": "e9bc65f7",
   "metadata": {},
   "source": [
    "# Table Of Contents:\n",
    "* [Gauss-Legendre Univariate Integration](#GL)\n",
    "* [Bivariate Distributions](#BV)\n",
    "* [Tensor Grid](#TG)\n",
    "* [Sparse Grid](#SG)\n"
   ]
  },
  {
   "cell_type": "code",
   "execution_count": 16,
   "id": "4a278f03",
   "metadata": {},
   "outputs": [],
   "source": [
    "import numpy as np\n",
    "import matplotlib.pyplot as plt\n",
    "import equadratures as eq"
   ]
  },
  {
   "cell_type": "markdown",
   "id": "ae80ef29",
   "metadata": {},
   "source": [
    "## Gauss-Legendre Univariate Integration <a class=\"anchor\" id=\"GL\"></a>"
   ]
  },
  {
   "cell_type": "code",
   "execution_count": 17,
   "id": "d131c5a8",
   "metadata": {},
   "outputs": [],
   "source": [
    "order = 10\n",
    "parameter = eq.Parameter(lower=-1, upper=1, order=order, distribution='uniform')"
   ]
  },
  {
   "cell_type": "markdown",
   "id": "ed3ce749",
   "metadata": {},
   "source": [
    "We will first consider univariate polynomials, evaluating using Gauss-Legendre Quadrature.\n",
    "\n",
    "Above, we being by defining a uniform paramter from -1 to 1 and of order 10, meaning that we are only considering the first 10 orthogonal polynomials in our quadrature computations.\n",
    "\n",
    "$$\n",
    "\\int_{-1}^{1}f(x)dx\n",
    "$$\n",
    "\n",
    "Utilizing Gauss-Legendre Quadrature (since we are using a uniform weight distribution), we can evaluate the above integral by evaluating the function at certain points, that correspond to the roots of the Legendre polynomial, and dot those evaluations with weights associated with those points."
   ]
  },
  {
   "cell_type": "code",
   "execution_count": 18,
   "id": "0a016588",
   "metadata": {},
   "outputs": [],
   "source": [
    "basis = eq.Basis('univariate')\n",
    "poly = eq.Poly(parameter, basis, method='numerical-integration')\n",
    "points, weights = poly.get_points_and_weights()"
   ]
  },
  {
   "cell_type": "markdown",
   "id": "55f95de1",
   "metadata": {},
   "source": [
    "Equadratures allows simple retrieval of these weights and points, allowing us to evaluate computationally efficient integrals.\n",
    "\n",
    "$$\n",
    "\\int_{-1}^{1}f(x)dx \\approx \\sum_{n=1}^{i}f(points_i)*weights_i \n",
    "$$"
   ]
  },
  {
   "cell_type": "code",
   "execution_count": 19,
   "id": "2db4671e",
   "metadata": {},
   "outputs": [],
   "source": [
    "def f(x):\n",
    "    return np.cos(x**2);"
   ]
  },
  {
   "cell_type": "markdown",
   "id": "66a010aa",
   "metadata": {},
   "source": [
    "Consider the function:\n",
    "$$\n",
    "f(x) = cos(x^2)\n",
    "$$\n"
   ]
  },
  {
   "cell_type": "markdown",
   "id": "89a9bd41",
   "metadata": {},
   "source": [
    "Utilizing the weights and points we previously collected, evaluation is easily done through the following."
   ]
  },
  {
   "cell_type": "code",
   "execution_count": 20,
   "id": "fe2dd931",
   "metadata": {},
   "outputs": [
    {
     "name": "stdout",
     "output_type": "stream",
     "text": [
      "1.809048475800536\n"
     ]
    }
   ],
   "source": [
    "eval = float( 2  * np.dot(weights , eq.evaluate_model(points, f) ) )\n",
    "print(eval)"
   ]
  },
  {
   "cell_type": "markdown",
   "id": "7beca2bc",
   "metadata": {},
   "source": [
    "$$\n",
    "\\int_{-1}^{1}cos(x^2)dx \\approx \\sum_{n=1}^{i}f(points_i)*weights_i = 1.809048475800536\n",
    "$$"
   ]
  },
  {
   "cell_type": "markdown",
   "id": "9b860d97",
   "metadata": {},
   "source": [
    "This approach can be altered to help compute a wide variety of integrals. Including switching away from Gauss-Legendre, by specifying a non uniform distribution.\n"
   ]
  },
  {
   "cell_type": "markdown",
   "id": "5aa41df4",
   "metadata": {},
   "source": [
    "## Bivariate Distributions <a class=\"anchor\" id=\"BV\"></a>"
   ]
  },
  {
   "cell_type": "markdown",
   "id": "c359cc6f",
   "metadata": {},
   "source": [
    "Given that in the real world, we are typically interested in functions of multiple variables.\n",
    "\n",
    "Equadratures allows this through the specification of the multi-index, the possible multi-indices are called index sets.\n",
    "\n",
    "The following are the 6 index sets in Equadratures: tensor-grid, total-order, sparse-grid, hyperbolic-basis, and euclidean degree.\n",
    "\n",
    "For the pruposes of this tutorial, we will begin with a tensor-grid."
   ]
  },
  {
   "cell_type": "markdown",
   "id": "c35e3349",
   "metadata": {},
   "source": [
    "### Tensor Grid <a class=\"anchor\" id=\"TG\"></a>"
   ]
  },
  {
   "cell_type": "code",
   "execution_count": 21,
   "id": "8f7dbb20",
   "metadata": {},
   "outputs": [],
   "source": [
    "tensor = eq.Basis('tensor-grid', [1,1])\n",
    "biParam = eq.Parameter(lower=-1, upper=1, order=order, distribution='Uniform')\n",
    "\n",
    "biPoly = eq.Poly([biParam, biParam], tensor, method='numerical-integration')\n",
    "\n",
    "biPoints, biWeights = biPoly.get_points_and_weights()"
   ]
  },
  {
   "cell_type": "markdown",
   "id": "9552e4ac",
   "metadata": {},
   "source": [
    "Now consider the multivariable function:\n",
    "$$\n",
    "G(x) = \\int_{-1}^{1}\\int_{-1}^{1}16x^3 + 8y^2 - 8y+6 \\;dxdydz\n",
    "$$"
   ]
  },
  {
   "cell_type": "code",
   "execution_count": 22,
   "id": "f39ba647",
   "metadata": {},
   "outputs": [],
   "source": [
    "def g(x):\n",
    "    return 16*x[0]**3+8*x[1]**2-8*x[1]+6;\n",
    "\n",
    "xValuesBi = np.linspace(-1., 1., 1000)\n",
    "yValuesBi = np.linspace(-1., 1., 1000)\n",
    "zValuesBi = np.linspace(-1., 1., 1000)"
   ]
  },
  {
   "cell_type": "markdown",
   "id": "249e3875",
   "metadata": {},
   "source": [
    "The numerical integral is now easily calculated using the points and weights we had earlier computed."
   ]
  },
  {
   "cell_type": "code",
   "execution_count": 23,
   "id": "89fe3b0e",
   "metadata": {},
   "outputs": [
    {
     "name": "stdout",
     "output_type": "stream",
     "text": [
      "17.333333333333325\n"
     ]
    }
   ],
   "source": [
    "evalBi = float( 2  * np.dot(biWeights , eq.evaluate_model(biPoints, g) ) )\n",
    "print(evalBi);"
   ]
  },
  {
   "cell_type": "markdown",
   "id": "0e54d869",
   "metadata": {},
   "source": [
    "$$\n",
    "G(x) = \\int_{-1}^{1}\\int_{-1}^{1}16x^3 + 8y^2 - 8y+6 \\;dxdydz = 17.\\overline{33}\n",
    "$$"
   ]
  },
  {
   "cell_type": "markdown",
   "id": "8d9beb01",
   "metadata": {},
   "source": [
    "### Sparse Grid <a class=\"anchor\" id=\"SG\"></a>"
   ]
  },
  {
   "cell_type": "markdown",
   "id": "2bf6439e",
   "metadata": {},
   "source": [
    "Now we will similarly approach the problem using a sparse grid."
   ]
  },
  {
   "cell_type": "code",
   "execution_count": 24,
   "id": "bf99ad0c",
   "metadata": {},
   "outputs": [],
   "source": [
    "sparseGrid = eq.Basis('sparse-grid', level=2, growth_rule='linear',orders=[1, 1])\n",
    "sparsePoly = eq.Poly([biParam, biParam], sparseGrid, method='numerical-integration')\n",
    "sparsePoints, sparseWeights = sparsePoly.get_points_and_weights();"
   ]
  },
  {
   "cell_type": "markdown",
   "id": "c87e37ca",
   "metadata": {},
   "source": [
    "Once more, the numeric value is then easily computed"
   ]
  },
  {
   "cell_type": "code",
   "execution_count": 25,
   "id": "807125d2",
   "metadata": {},
   "outputs": [
    {
     "name": "stdout",
     "output_type": "stream",
     "text": [
      "17.333333333333325\n"
     ]
    }
   ],
   "source": [
    "evalSparse = float( 2  * np.dot(sparseWeights , eq.evaluate_model(sparsePoints, g) ) )\n",
    "print(evalBi);"
   ]
  },
  {
   "cell_type": "markdown",
   "id": "90a4c02a",
   "metadata": {},
   "source": [
    "$$\n",
    "G(x) = \\int_{-1}^{1}\\int_{-1}^{1}16x^3 + 8y^2 - 8y+6 \\;dxdydz = 17.\\overline{33}\n",
    "$$"
   ]
  },
  {
   "cell_type": "code",
   "execution_count": null,
   "id": "9b9021a8",
   "metadata": {},
   "outputs": [],
   "source": []
  }
 ],
 "metadata": {
  "kernelspec": {
   "display_name": "Python 3 (ipykernel)",
   "language": "python",
   "name": "python3"
  },
  "language_info": {
   "codemirror_mode": {
    "name": "ipython",
    "version": 3
   },
   "file_extension": ".py",
   "mimetype": "text/x-python",
   "name": "python",
   "nbconvert_exporter": "python",
   "pygments_lexer": "ipython3",
   "version": "3.10.9"
  }
 },
 "nbformat": 4,
 "nbformat_minor": 5
}
